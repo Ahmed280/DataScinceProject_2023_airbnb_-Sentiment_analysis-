{
  "nbformat": 4,
  "nbformat_minor": 0,
  "metadata": {
    "colab": {
      "provenance": []
    },
    "kernelspec": {
      "name": "python3",
      "display_name": "Python 3"
    },
    "language_info": {
      "name": "python"
    }
  },
  "cells": [
    {
      "cell_type": "markdown",
      "source": [
        "### **import libraries**"
      ],
      "metadata": {
        "id": "LMI_BWDCyji-"
      }
    },
    {
      "cell_type": "code",
      "execution_count": 16,
      "metadata": {
        "id": "4Os4C0EoygyE"
      },
      "outputs": [],
      "source": [
        "import pandas as pd\n",
        "import numpy as np\n",
        "%matplotlib inline\n",
        "import matplotlib.pyplot as plt\n",
        "import seaborn as sns\n",
        "from sklearn.pipeline import Pipeline\n",
        "from sklearn.preprocessing import StandardScaler\n",
        "from sklearn.model_selection import train_test_split, cross_val_score,GridSearchCV\n",
        "from sklearn.metrics import accuracy_score, recall_score, precision_score, f1_score, confusion_matrix,log_loss\n",
        "from sklearn.decomposition import IncrementalPCA\n",
        "from sklearn.tree import DecisionTreeClassifier\n",
        "from xgboost  import XGBClassifier\n",
        "from sklearn.ensemble import StackingClassifier\n"
      ]
    },
    {
      "cell_type": "markdown",
      "source": [
        "# **Predefined methods**\n",
        "\n",
        "for clean code"
      ],
      "metadata": {
        "id": "GSpUesz90jDh"
      }
    },
    {
      "cell_type": "code",
      "source": [
        "def plot_box(df,columns_names, size=15):\n",
        "    \"\"\"\n",
        "    This method will be called to plot a box plot for each column to detect the outliers.\n",
        "    df: dataframe\n",
        "    columns_names: numric columns to plot (list)\n",
        "    size: number of plot box figures (int)\n",
        "    \"\"\"\n",
        "    plt.figure(figsize = [10,20])\n",
        "    for i in range(1,size + 1):\n",
        "        plt.subplot(5,3,i)\n",
        "        sns.boxplot(data = df[columns_names].iloc[:,i-1], color= '#9546A2')\n",
        "        plt.title(columns_names[i-1], fontsize = 20)\n",
        "    plt.savefig('Boxpolt_aft_outliers.png')"
      ],
      "metadata": {
        "id": "qSFPuPMc0xgB"
      },
      "execution_count": 17,
      "outputs": []
    },
    {
      "cell_type": "code",
      "source": [
        "'''def clean_outliers(df,columns_names,method=0):\n",
        "\n",
        "  Method for clean outliers in given data\n",
        "\n",
        "  arguments:\n",
        "  df: dataframe that contain the data (dataframe)\n",
        "  columns_names: numrical columns to clean (list)\n",
        "\n",
        "  method: which method to use:\n",
        "  0: drop outliers\n",
        "  1: replace outliers with mean\n",
        "  2: replace outliers with mode\n",
        "  3: replace outliers with median\n",
        "  4: replace outliers with min(for lower outliers ) max(for upper outliers)\n",
        "  deafult=0\n",
        "  (int)\n",
        "  \n",
        "  return dataframe after cleaning outliers\n",
        "\n",
        "  for key in df[columns_names].keys():\n",
        "    mean=df[key].mean()\n",
        "    median=df[key].median()\n",
        "    mode=df[key].mode()\n",
        "\n",
        "    q25 = df[key].quantile(0.25)\n",
        "    q75 = df[key].quantile(0.75)\n",
        "    intr_qr = q75 - q25\n",
        "    max = q75+(1.5*intr_qr)\n",
        "    min = q25-(1.5*intr_qr)\n",
        "    \n",
        "    if method==1:\n",
        "      df.loc[(df[key] < min), key] = np.nan\n",
        "      df.loc[(df[key] > max), key]= np.nan\n",
        "      df.fillna(mean,inplace=True)\n",
        "    elif method==2:\n",
        "      df.loc[(df[key] < min), key] = np.nan\n",
        "      df.loc[(df[key] > max), key]= np.nan\n",
        "      df.fillna(mode,inplace=True)\n",
        "    elif method==3:\n",
        "      df.loc[(df[key] < min), key] = np.nan\n",
        "      df.loc[(df[key] > max), key]= np.nan\n",
        "      df.fillna(median,inplace=True)\n",
        "\n",
        "    elif method==4:\n",
        "      df.loc[(df[key] < min), key] = np.nan\n",
        "      df.fillna(min,inplace=True)\n",
        "      df.loc[(df[key] > max), key]= np.nan\n",
        "      df.fillna(max,inplace=True)\n",
        "    else:\n",
        "      df.loc[(df[key] < min), key] = np.nan\n",
        "      df.loc[(df[key] > max), key]= np.nan\n",
        "      df.dropna(inplace=True)\n",
        "      df.reset_index(drop=True,inplace=True)\n",
        "\n",
        "    \n",
        "  return df\n",
        "'''"
      ],
      "metadata": {
        "id": "DGQH4oRX02Pd"
      },
      "execution_count": 18,
      "outputs": []
    },
    {
      "cell_type": "code",
      "source": [
        "def data_preparation(df,numric_colums,cat_columns,tf_columns,scaler,test=False):\n",
        "  '''\n",
        "  Method for prepare the data for the  the ML model\n",
        "\n",
        "  arguments:\n",
        "  df: dataframe that contain the data  (dataframe)\n",
        "  numric_colums: numrical columns to prepare (list)\n",
        "  cat_columns: categorical columns to prepare (list)\n",
        "  tf_columns:  true false columns to prepare (list)\n",
        "  scaler: scaler used for scaling ()\n",
        "  test: true for test data preparation False for train data preparation default False  (boolean)\n",
        "\n",
        "  return dataframe prepared for ML model\n",
        "  '''\n",
        "  df=pd.get_dummies(df,cat_columns)#convert categorical data to 01\n",
        "  df[tf_columns]=df[tf_columns].astype(int)#convert True false to 1 0\n",
        "  if(test==False):\n",
        "    df[numric_colums]=scaler.fit_transform(df[numric_colums])\n",
        "    \n",
        "  else:\n",
        "    df[numric_colums]=scaler.transform(df[numric_colums])#scaling the data\n",
        "  \n",
        "  return df\n",
        "\n",
        "  \n"
      ],
      "metadata": {
        "id": "HlMnmv4I2sUQ"
      },
      "execution_count": 18,
      "outputs": []
    },
    {
      "cell_type": "code",
      "source": [
        "def get_labels(df,label_colum):\n",
        "  '''\n",
        "  Method for convert our label to  \n",
        "  0:unsatisfied\n",
        "  1:neutral\n",
        "  2:satisfied\n",
        "  3:very satisfied\n",
        "\n",
        "  arguments:\n",
        "  df: dataframe that contain the labels to convert  (dataframe)\n",
        "  label_colum: the name of label colum    (str)\n",
        "\n",
        "  return the new labels\n",
        "  '''\n",
        "  label=pd.DataFrame() \n",
        "  temp_arr=np.zeros(len(df[label_colum]))\n",
        "  i=0\n",
        "  for item in df[label_colum]:\n",
        "    if(item<60):\n",
        "      temp_arr[i]=0\n",
        "    elif (item<75):\n",
        "      temp_arr[i]=1\n",
        "    elif (item<83):\n",
        "      temp_arr[i]=2\n",
        "    else:\n",
        "      temp_arr[i]=3\n",
        "  i+=1\n",
        "  label[label_colum]=temp_arr.tolist()\n",
        "  return label"
      ],
      "metadata": {
        "id": "wI_Kxwtg6ZDQ"
      },
      "execution_count": 19,
      "outputs": []
    },
    {
      "cell_type": "code",
      "source": [
        "def get_true_label(y_pred):\n",
        "  '''\n",
        "  Method for convert model predictions from number to the real label\n",
        "\n",
        "  arguments:\n",
        "  y_pred: predtions of out model (ndarray)\n",
        "\n",
        "  return list with name of the labels\n",
        "\n",
        "  '''\n",
        "  true_label=[]\n",
        "  for i in range(len(y_pred)):\n",
        "    if y_pred[i]==0:\n",
        "      true_label.append('unsatisfied')\n",
        "    elif y_pred[i]==1:\n",
        "      true_label.append('neutral')\n",
        "    elif y_pred[i]==2:\n",
        "      true_label.append('satisfied')\n",
        "    else:\n",
        "      true_label.append('very satisfied')\n",
        "  return true_label\n",
        "\n"
      ],
      "metadata": {
        "id": "kUXulrGB8CuX"
      },
      "execution_count": 20,
      "outputs": []
    },
    {
      "cell_type": "markdown",
      "source": [
        "# **Read data**"
      ],
      "metadata": {
        "id": "kQq71piWzdWo"
      }
    },
    {
      "cell_type": "code",
      "source": [
        "airbnb=pd.read_csv('airbnb.csv')"
      ],
      "metadata": {
        "id": "4pMU29syzoFH"
      },
      "execution_count": 22,
      "outputs": []
    },
    {
      "cell_type": "markdown",
      "source": [
        "split the data to hide the test data"
      ],
      "metadata": {
        "id": "jE2ELtvnKOSX"
      }
    },
    {
      "cell_type": "code",
      "source": [
        "airbnb_train,airbnb_test=train_test_split(airbnb,test_size=0.2, random_state=42)\n"
      ],
      "metadata": {
        "id": "BBxMbj27KR_S"
      },
      "execution_count": 23,
      "outputs": []
    },
    {
      "cell_type": "markdown",
      "source": [
        "reset index to avoid problems"
      ],
      "metadata": {
        "id": "TAzg_NiCUbkq"
      }
    },
    {
      "cell_type": "code",
      "source": [
        "airbnb_train.reset_index(drop=True,inplace=True)\n",
        "airbnb_test.reset_index(drop=True,inplace=True)"
      ],
      "metadata": {
        "id": "UV47J7LsUaqp"
      },
      "execution_count": 24,
      "outputs": []
    },
    {
      "cell_type": "markdown",
      "source": [
        "Split colums"
      ],
      "metadata": {
        "id": "QjFRPFyYBZ6y"
      }
    },
    {
      "cell_type": "code",
      "source": [
        "numric_colums=['Price','Person Capacity','Cleanliness Rating','Bedrooms','City Center (km)',\n",
        "                      'Metro Distance (km)','Attraction Index','Normalised Attraction Index','Restraunt Index','Normalised Restraunt Index']\n",
        "cat_colums=['City','Day','Room Type']\n",
        "tf_colmus=['Shared Room','Private Room','Superhost','Multiple Rooms','Business']"
      ],
      "metadata": {
        "id": "UJgw-P1dBZOh"
      },
      "execution_count": 25,
      "outputs": []
    },
    {
      "cell_type": "markdown",
      "source": [
        "# **Data exploration**"
      ],
      "metadata": {
        "id": "UMDRE8S7zwy-"
      }
    },
    {
      "cell_type": "code",
      "source": [
        "airbnb_train.head()"
      ],
      "metadata": {
        "id": "Lg77RxO_z3K3"
      },
      "execution_count": null,
      "outputs": []
    },
    {
      "cell_type": "code",
      "source": [
        "airbnb_train.info()"
      ],
      "metadata": {
        "id": "mKm86zQzT6Q2"
      },
      "execution_count": null,
      "outputs": []
    },
    {
      "cell_type": "code",
      "source": [
        "airbnb_train.describe()"
      ],
      "metadata": {
        "id": "J_KBXy83T8wM"
      },
      "execution_count": null,
      "outputs": []
    },
    {
      "cell_type": "code",
      "source": [
        "airbnb_train.hist(bins=50, figsize=(15,10))\n",
        "plt.show()"
      ],
      "metadata": {
        "id": "1tCijWUET9GP"
      },
      "execution_count": null,
      "outputs": []
    },
    {
      "cell_type": "code",
      "source": [
        "corr_matrix=airbnb_train.corr()\n",
        "corr_matrix['Guest Satisfaction'].sort_values(ascending=False)"
      ],
      "metadata": {
        "id": "xcGPPxboUFIi"
      },
      "execution_count": null,
      "outputs": []
    },
    {
      "cell_type": "code",
      "source": [
        "plot_box(airbnb_train[numric_colums],numric_colums,len(numric_colums))"
      ],
      "metadata": {
        "id": "QH62tRX2UPNJ"
      },
      "execution_count": null,
      "outputs": []
    },
    {
      "cell_type": "markdown",
      "source": [
        "# **Feature engineering**(not used)"
      ],
      "metadata": {
        "id": "F0ImfpXaArz8"
      }
    },
    {
      "cell_type": "code",
      "source": [
        "#some feature engineering with high corr features for train and test data\n",
        "'''airbnb_train['Square Cleanliness Rating']=airbnb_train['Cleanliness Rating']**2\n",
        "airbnb_train['Log Cleanliness Rating']=np.log(airbnb_train['Cleanliness Rating'])\n",
        "airbnb_train['Cleanliness for Business']=airbnb_train['Cleanliness Rating']*airbnb_train['Business']\n",
        "airbnb_train['Cleanliness for bedrooms']=airbnb_train['Cleanliness Rating']*airbnb_train['Bedrooms']\n",
        "airbnb_train['bedrooms per Cleanliness']=airbnb_train['Bedrooms']/airbnb_train['Cleanliness Rating'] \n",
        "\n",
        "airbnb_test['Square Cleanliness Rating']=airbnb_test['Cleanliness Rating']**2\n",
        "airbnb_test['Log Cleanliness Rating']=np.log(airbnb_test['Cleanliness Rating'])\n",
        "airbnb_test['Cleanliness for Business']=airbnb_test['Cleanliness Rating']*airbnb_test['Business']\n",
        "airbnb_test['Cleanliness for bedrooms']=airbnb_test['Cleanliness Rating']*airbnb_test['Bedrooms']\n",
        "airbnb_test['bedrooms per Cleanliness']=airbnb_test['Bedrooms']/airbnb_test['Cleanliness Rating'] '''\n",
        "\n"
      ],
      "metadata": {
        "id": "ekWWO8wdA3Kg"
      },
      "execution_count": 32,
      "outputs": []
    },
    {
      "cell_type": "markdown",
      "source": [
        "update numreic colums after feature engineering (not used)"
      ],
      "metadata": {
        "id": "hF4LJWtwBHOj"
      }
    },
    {
      "cell_type": "code",
      "source": [
        "''''numric_colums=['Price','Person Capacity','Cleanliness Rating','Bedrooms','City Center (km)',\n",
        "                      'Metro Distance (km)','Attraction Index','Normalised Attraction Index','Restraunt Index','Normalised Restraunt Index','Square Cleanliness Rating','Log Cleanliness Rating'\n",
        "                      ,'Cleanliness for Business','Cleanliness for bedrooms','bedrooms per Cleanliness']'''"
      ],
      "metadata": {
        "id": "lrI0QcYfBLE5"
      },
      "execution_count": 33,
      "outputs": []
    },
    {
      "cell_type": "markdown",
      "source": [
        "# **Data cleaning**(not used)"
      ],
      "metadata": {
        "id": "xJg55Odcz99m"
      }
    },
    {
      "cell_type": "code",
      "source": [
        "'''airbnb_train=clean_outliers(airbnb_train,numric_colums,method=0)\n",
        "print('finish')'''\n"
      ],
      "metadata": {
        "colab": {
          "base_uri": "https://localhost:8080/"
        },
        "id": "FsXoRFlp0DF9",
        "outputId": "bf1b2319-4ccc-4b2c-cfa2-83eb71aa1cf2"
      },
      "execution_count": 33,
      "outputs": [
        {
          "output_type": "stream",
          "name": "stdout",
          "text": [
            "finish\n"
          ]
        }
      ]
    },
    {
      "cell_type": "code",
      "source": [
        "airbnb_train"
      ],
      "metadata": {
        "id": "Q3UaML2hD0Es"
      },
      "execution_count": null,
      "outputs": []
    },
    {
      "cell_type": "markdown",
      "source": [
        "# **Data preparation**"
      ],
      "metadata": {
        "id": "i7ISOSkH0Hlk"
      }
    },
    {
      "cell_type": "markdown",
      "source": [
        "convert the  label"
      ],
      "metadata": {
        "id": "-77Ya0RVLWO6"
      }
    },
    {
      "cell_type": "code",
      "source": [
        "y_train=get_labels(airbnb_train,'Guest Satisfaction')\n",
        "y_test=get_labels(airbnb_test,'Guest Satisfaction')\n"
      ],
      "metadata": {
        "id": "bLMyZa4sJubx"
      },
      "execution_count": 36,
      "outputs": []
    },
    {
      "cell_type": "markdown",
      "source": [
        "Drop the label"
      ],
      "metadata": {
        "id": "EvzF9xtSJoE6"
      }
    },
    {
      "cell_type": "code",
      "source": [
        "X_train=airbnb_train.drop('Guest Satisfaction',axis=1)\n",
        "X_test=airbnb_test.drop('Guest Satisfaction',axis=1)"
      ],
      "metadata": {
        "id": "KF4SIT2mJqpY"
      },
      "execution_count": 37,
      "outputs": []
    },
    {
      "cell_type": "code",
      "source": [
        "X_train"
      ],
      "metadata": {
        "id": "iSEVjJdpP_SC"
      },
      "execution_count": null,
      "outputs": []
    },
    {
      "cell_type": "code",
      "source": [
        "scaler=StandardScaler()\n",
        "X_train=data_preparation(X_train,numric_colums,cat_colums,tf_colmus,scaler,False)\n",
        "X_test=data_preparation(X_test,numric_colums,cat_colums,tf_colmus,scaler,True)"
      ],
      "metadata": {
        "id": "YCV6cN0B0NHy"
      },
      "execution_count": 39,
      "outputs": []
    },
    {
      "cell_type": "markdown",
      "source": [
        "# **Model selection**"
      ],
      "metadata": {
        "id": "RJ-L93NJ0PPO"
      }
    },
    {
      "cell_type": "code",
      "source": [
        "tree=DecisionTreeClassifier()\n",
        "tree.fit(X_train,y_train)\n",
        "y_pred=tree.predict(X_test)\n",
        "y_pred_train=tree.predict(X_train)\n",
        "\n",
        "print('test accuracy',accuracy_score(y_test,y_pred))\n",
        "print('train accuracy',accuracy_score(y_train,y_pred_train))\n",
        "\n"
      ],
      "metadata": {
        "colab": {
          "base_uri": "https://localhost:8080/"
        },
        "id": "V1WreyRE0TBr",
        "outputId": "b24d7382-57c5-4ed7-9764-9b29d06491ae"
      },
      "execution_count": 40,
      "outputs": [
        {
          "output_type": "stream",
          "name": "stdout",
          "text": [
            "test accuracy 0.9998801390387151\n",
            "train accuracy 1.0\n"
          ]
        }
      ]
    },
    {
      "cell_type": "code",
      "source": [],
      "metadata": {
        "id": "zBxSLdJTRioM"
      },
      "execution_count": null,
      "outputs": []
    }
  ]
}